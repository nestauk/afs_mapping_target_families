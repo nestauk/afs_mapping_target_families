{
 "cells": [
  {
   "cell_type": "code",
   "execution_count": 2,
   "metadata": {},
   "outputs": [],
   "source": [
    "from afs_mapping_target_families.getters.processed.combined_data import get_combined_data\n",
    "from afs_mapping_target_families import PROJECT_DIR\n",
    "import altair as alt\n",
    "from nesta_ds_utils.viz.altair import formatting, saving\n",
    "from statistics import mean, median\n",
    "import scipy.stats\n",
    "formatting.setup_theme()"
   ]
  },
  {
   "cell_type": "code",
   "execution_count": 3,
   "metadata": {},
   "outputs": [
    {
     "name": "stdout",
     "output_type": "stream",
     "text": [
      "2023-10-30 08:48:04,662 - botocore.credentials - INFO - Found credentials in shared credentials file: ~/.aws/credentials\n"
     ]
    }
   ],
   "source": [
    "asq_data = get_combined_data()\n",
    "annual_data = asq_data.loc[asq_data['date']== 'Annual']\n",
    "\n",
    "asq_data_rr = annual_data[['la_name', 'response_rate_combined', \"total_kids_hv\", \"ONS code\"]].loc[annual_data['response_rate_combined']!= 'Could Not Calculate Response Rate']\n"
   ]
  },
  {
   "cell_type": "markdown",
   "metadata": {},
   "source": [
    "## Plots used in public facing report"
   ]
  },
  {
   "cell_type": "code",
   "execution_count": 25,
   "metadata": {},
   "outputs": [],
   "source": []
  },
  {
   "cell_type": "code",
   "execution_count": 4,
   "metadata": {},
   "outputs": [],
   "source": [
    "asq_data_rr['response_rate_combined'] = asq_data_rr['response_rate_combined'].apply(lambda x: float(x)*100)\n",
    "asq_data_rr['total_kids_hv'] = asq_data_rr['total_kids_hv'].apply(lambda x: float(x))"
   ]
  },
  {
   "cell_type": "code",
   "execution_count": 13,
   "metadata": {},
   "outputs": [],
   "source": [
    "geojson_url = \"https://raw.githubusercontent.com/VolcanoBlue13/uk_geojson_topojson_datasets/main/geojson/UK/County_Unitary_Authority/C_UA_UK_2021_boundaries_ultra_generalised.geojson\"\n",
    "regions = alt.Data(\n",
    "                        url=geojson_url,\n",
    "                        format=alt.DataFormat(property=\"features\", type=\"json\"),\n",
    "                    )\n",
    "alternative_condition = (\n",
    "                        \"datum.response_rate_combined > 0\"\n",
    "                    )"
   ]
  },
  {
   "cell_type": "code",
   "execution_count": 10,
   "metadata": {},
   "outputs": [
    {
     "data": {
      "text/html": [
       "<div>\n",
       "<style scoped>\n",
       "    .dataframe tbody tr th:only-of-type {\n",
       "        vertical-align: middle;\n",
       "    }\n",
       "\n",
       "    .dataframe tbody tr th {\n",
       "        vertical-align: top;\n",
       "    }\n",
       "\n",
       "    .dataframe thead th {\n",
       "        text-align: right;\n",
       "    }\n",
       "</style>\n",
       "<table border=\"1\" class=\"dataframe\">\n",
       "  <thead>\n",
       "    <tr style=\"text-align: right;\">\n",
       "      <th></th>\n",
       "      <th>la_name</th>\n",
       "      <th>response_rate_combined</th>\n",
       "      <th>total_kids_hv</th>\n",
       "      <th>ONS code</th>\n",
       "    </tr>\n",
       "  </thead>\n",
       "  <tbody>\n",
       "    <tr>\n",
       "      <th>600</th>\n",
       "      <td>County Durham</td>\n",
       "      <td>90.175496</td>\n",
       "      <td>4733.0</td>\n",
       "      <td>E06000047</td>\n",
       "    </tr>\n",
       "    <tr>\n",
       "      <th>601</th>\n",
       "      <td>Darlington</td>\n",
       "      <td>104.372764</td>\n",
       "      <td>1035.0</td>\n",
       "      <td>E06000005</td>\n",
       "    </tr>\n",
       "    <tr>\n",
       "      <th>602</th>\n",
       "      <td>Gateshead</td>\n",
       "      <td>78.049486</td>\n",
       "      <td>1843.0</td>\n",
       "      <td>E08000037</td>\n",
       "    </tr>\n",
       "    <tr>\n",
       "      <th>603</th>\n",
       "      <td>Hartlepool</td>\n",
       "      <td>91.217124</td>\n",
       "      <td>1003.0</td>\n",
       "      <td>E06000001</td>\n",
       "    </tr>\n",
       "    <tr>\n",
       "      <th>604</th>\n",
       "      <td>Middlesbrough</td>\n",
       "      <td>93.288233</td>\n",
       "      <td>1623.0</td>\n",
       "      <td>E06000002</td>\n",
       "    </tr>\n",
       "  </tbody>\n",
       "</table>\n",
       "</div>"
      ],
      "text/plain": [
       "           la_name  response_rate_combined  total_kids_hv   ONS code\n",
       "600  County Durham               90.175496         4733.0  E06000047\n",
       "601     Darlington              104.372764         1035.0  E06000005\n",
       "602      Gateshead               78.049486         1843.0  E08000037\n",
       "603     Hartlepool               91.217124         1003.0  E06000001\n",
       "604  Middlesbrough               93.288233         1623.0  E06000002"
      ]
     },
     "execution_count": 10,
     "metadata": {},
     "output_type": "execute_result"
    }
   ],
   "source": [
    "asq_data_rr.head()"
   ]
  },
  {
   "cell_type": "code",
   "execution_count": 14,
   "metadata": {},
   "outputs": [
    {
     "data": {
      "text/html": [
       "\n",
       "<div id=\"altair-viz-bec0eecf0faf444ba58d03aca18cf0fa\"></div>\n",
       "<script type=\"text/javascript\">\n",
       "  var VEGA_DEBUG = (typeof VEGA_DEBUG == \"undefined\") ? {} : VEGA_DEBUG;\n",
       "  (function(spec, embedOpt){\n",
       "    let outputDiv = document.currentScript.previousElementSibling;\n",
       "    if (outputDiv.id !== \"altair-viz-bec0eecf0faf444ba58d03aca18cf0fa\") {\n",
       "      outputDiv = document.getElementById(\"altair-viz-bec0eecf0faf444ba58d03aca18cf0fa\");\n",
       "    }\n",
       "    const paths = {\n",
       "      \"vega\": \"https://cdn.jsdelivr.net/npm//vega@5?noext\",\n",
       "      \"vega-lib\": \"https://cdn.jsdelivr.net/npm//vega-lib?noext\",\n",
       "      \"vega-lite\": \"https://cdn.jsdelivr.net/npm//vega-lite@4.17.0?noext\",\n",
       "      \"vega-embed\": \"https://cdn.jsdelivr.net/npm//vega-embed@6?noext\",\n",
       "    };\n",
       "\n",
       "    function maybeLoadScript(lib, version) {\n",
       "      var key = `${lib.replace(\"-\", \"\")}_version`;\n",
       "      return (VEGA_DEBUG[key] == version) ?\n",
       "        Promise.resolve(paths[lib]) :\n",
       "        new Promise(function(resolve, reject) {\n",
       "          var s = document.createElement('script');\n",
       "          document.getElementsByTagName(\"head\")[0].appendChild(s);\n",
       "          s.async = true;\n",
       "          s.onload = () => {\n",
       "            VEGA_DEBUG[key] = version;\n",
       "            return resolve(paths[lib]);\n",
       "          };\n",
       "          s.onerror = () => reject(`Error loading script: ${paths[lib]}`);\n",
       "          s.src = paths[lib];\n",
       "        });\n",
       "    }\n",
       "\n",
       "    function showError(err) {\n",
       "      outputDiv.innerHTML = `<div class=\"error\" style=\"color:red;\">${err}</div>`;\n",
       "      throw err;\n",
       "    }\n",
       "\n",
       "    function displayChart(vegaEmbed) {\n",
       "      vegaEmbed(outputDiv, spec, embedOpt)\n",
       "        .catch(err => showError(`Javascript Error: ${err.message}<br>This usually means there's a typo in your chart specification. See the javascript console for the full traceback.`));\n",
       "    }\n",
       "\n",
       "    if(typeof define === \"function\" && define.amd) {\n",
       "      requirejs.config({paths});\n",
       "      require([\"vega-embed\"], displayChart, err => showError(`Error loading script: ${err.message}`));\n",
       "    } else {\n",
       "      maybeLoadScript(\"vega\", \"5\")\n",
       "        .then(() => maybeLoadScript(\"vega-lite\", \"4.17.0\"))\n",
       "        .then(() => maybeLoadScript(\"vega-embed\", \"6\"))\n",
       "        .catch(showError)\n",
       "        .then(() => displayChart(vegaEmbed));\n",
       "    }\n",
       "  })({\"config\": {\"axis\": {\"domainColor\": \"#000000\", \"gridColor\": \"#D2C9C0\", \"labelColor\": \"#000000\", \"labelFont\": \"Averta\", \"labelFontSize\": 16.0, \"tickColor\": \"#fff\", \"titleColor\": \"#000000\", \"titleFont\": \"Averta\", \"titleFontSize\": 16.0}, \"header\": {\"labelFont\": \"Averta\", \"labelFontSize\": 20, \"titleFont\": \"Averta\", \"titleFontSize\": 20}, \"legend\": {\"labelColor\": \"#000000\", \"labelFont\": \"Averta\", \"labelFontSize\": 16.0, \"titleColor\": \"#000000\", \"titleFont\": \"Averta\", \"titleFontSize\": 16.0}, \"range\": {\"category\": [\"#0000FF\", \"#FDB633\", \"#D2C9C0\", \"#18A48C\", \"#EB003B\", \"#9A1BBE\", \"#FF6E47\", \"#0F294A\", \"#97D9E3\", \"#A59BEE\", \"#F6A4B7\", \"#646363\", \"#FFFFFF\", \"#000000\"], \"diverging\": [\"#0000FF\", \"#FDB633\", \"#D2C9C0\", \"#18A48C\", \"#EB003B\", \"#9A1BBE\", \"#FF6E47\", \"#0F294A\", \"#97D9E3\", \"#A59BEE\", \"#F6A4B7\", \"#646363\", \"#FFFFFF\", \"#000000\"], \"heatmap\": [\"#0000FF\", \"#FDB633\", \"#D2C9C0\", \"#18A48C\", \"#EB003B\", \"#9A1BBE\", \"#FF6E47\", \"#0F294A\", \"#97D9E3\", \"#A59BEE\", \"#F6A4B7\", \"#646363\", \"#FFFFFF\", \"#000000\"], \"ordinal\": [\"#0000FF\", \"#FDB633\", \"#D2C9C0\", \"#18A48C\", \"#EB003B\", \"#9A1BBE\", \"#FF6E47\", \"#0F294A\", \"#97D9E3\", \"#A59BEE\", \"#F6A4B7\", \"#646363\", \"#FFFFFF\", \"#000000\"], \"ramp\": [\"#0000FF\", \"#FDB633\", \"#D2C9C0\", \"#18A48C\", \"#EB003B\", \"#9A1BBE\", \"#FF6E47\", \"#0F294A\", \"#97D9E3\", \"#A59BEE\", \"#F6A4B7\", \"#646363\", \"#FFFFFF\", \"#000000\"], \"scheme\": [\"#0000FF\", \"#FDB633\", \"#D2C9C0\", \"#18A48C\", \"#EB003B\", \"#9A1BBE\", \"#FF6E47\", \"#0F294A\", \"#97D9E3\", \"#A59BEE\", \"#F6A4B7\", \"#646363\", \"#FFFFFF\", \"#000000\"]}, \"title\": {\"anchor\": \"start\", \"color\": \"#000000\", \"font\": \"Averta\", \"fontSize\": 25.0}}, \"data\": {\"url\": \"https://raw.githubusercontent.com/VolcanoBlue13/uk_geojson_topojson_datasets/main/geojson/UK/County_Unitary_Authority/C_UA_UK_2021_boundaries_ultra_generalised.geojson\", \"format\": {\"property\": \"features\", \"type\": \"json\"}}, \"mark\": {\"type\": \"geoshape\", \"stroke\": \"white\"}, \"encoding\": {\"color\": {\"condition\": {\"field\": \"response_rate_combined\", \"scale\": {\"domain\": [30, 100], \"scheme\": \"redyellowblue\"}, \"type\": \"quantitative\", \"test\": \"datum.response_rate_combined > 0\"}, \"value\": \"lightgrey\"}}, \"transform\": [{\"lookup\": \"properties.CTYUA21CD\", \"from\": {\"data\": {\"name\": \"data-19bcd084d917e2c6c1d9f0eb148b2654\"}, \"key\": \"ONS code\", \"fields\": [\"response_rate_combined:Q\", \"la_name\"]}}], \"$schema\": \"https://vega.github.io/schema/vega-lite/v4.17.0.json\", \"datasets\": {\"data-19bcd084d917e2c6c1d9f0eb148b2654\": [{\"la_name\": \"County Durham\", \"response_rate_combined\": 90.17549626670571, \"total_kids_hv\": 4733.0, \"ONS code\": \"E06000047\"}, {\"la_name\": \"Darlington\", \"response_rate_combined\": 104.37276431758676, \"total_kids_hv\": 1035.0, \"ONS code\": \"E06000005\"}, {\"la_name\": \"Gateshead\", \"response_rate_combined\": 78.04948563223115, \"total_kids_hv\": 1843.0, \"ONS code\": \"E08000037\"}, {\"la_name\": \"Hartlepool\", \"response_rate_combined\": 91.21712430841646, \"total_kids_hv\": 1003.0, \"ONS code\": \"E06000001\"}, {\"la_name\": \"Middlesbrough\", \"response_rate_combined\": 93.28823310263795, \"total_kids_hv\": 1623.0, \"ONS code\": \"E06000002\"}, {\"la_name\": \"Newcastle upon Tyne\", \"response_rate_combined\": 63.895500151587804, \"total_kids_hv\": 3112.0, \"ONS code\": \"E08000021\"}, {\"la_name\": \"North Tyneside\", \"response_rate_combined\": 75.2500273220227, \"total_kids_hv\": 2294.0, \"ONS code\": \"E08000022\"}, {\"la_name\": \"Northumberland\", \"response_rate_combined\": 90.516892581774, \"total_kids_hv\": 2697.0, \"ONS code\": \"E06000057\"}, {\"la_name\": \"Redcar and Cleveland\", \"response_rate_combined\": 89.46841516249488, \"total_kids_hv\": 1340.0, \"ONS code\": \"E06000003\"}, {\"la_name\": \"South Tyneside\", \"response_rate_combined\": 99.56638896895001, \"total_kids_hv\": 1490.0, \"ONS code\": \"E08000023\"}, {\"la_name\": \"Stockton on Tees\", \"response_rate_combined\": 85.21283587377246, \"total_kids_hv\": 2081.0, \"ONS code\": \"E06000004\"}, {\"la_name\": \"Sunderland\", \"response_rate_combined\": 90.392410226833, \"total_kids_hv\": 2472.0, \"ONS code\": \"E08000024\"}, {\"la_name\": \"Blackpool\", \"response_rate_combined\": 83.82630719215072, \"total_kids_hv\": 1586.0, \"ONS code\": \"E06000009\"}, {\"la_name\": \"Bolton\", \"response_rate_combined\": 78.01031845172544, \"total_kids_hv\": 3501.0, \"ONS code\": \"E08000001\"}, {\"la_name\": \"Cheshire East\", \"response_rate_combined\": 87.8827933632204, \"total_kids_hv\": 3934.0, \"ONS code\": \"E06000049\"}, {\"la_name\": \"Cheshire West and Chester\", \"response_rate_combined\": 76.63392514850693, \"total_kids_hv\": 3421.0, \"ONS code\": \"E06000050\"}, {\"la_name\": \"Halton\", \"response_rate_combined\": 73.17174492781817, \"total_kids_hv\": 1394.0, \"ONS code\": \"E06000006\"}, {\"la_name\": \"Knowsley\", \"response_rate_combined\": 56.316967536698485, \"total_kids_hv\": 2007.0, \"ONS code\": \"E08000011\"}, {\"la_name\": \"Lancashire\", \"response_rate_combined\": 67.39344311485223, \"total_kids_hv\": 12957.0, \"ONS code\": \"E10000017\"}, {\"la_name\": \"Liverpool\", \"response_rate_combined\": 93.47078223754389, \"total_kids_hv\": 5297.0, \"ONS code\": \"E08000012\"}, {\"la_name\": \"Manchester\", \"response_rate_combined\": 73.54221483235688, \"total_kids_hv\": 7228.0, \"ONS code\": \"E08000003\"}, {\"la_name\": \"Oldham\", \"response_rate_combined\": 68.41283227233448, \"total_kids_hv\": 3224.0, \"ONS code\": \"E08000004\"}, {\"la_name\": \"Salford\", \"response_rate_combined\": 71.77425746395434, \"total_kids_hv\": 3294.0, \"ONS code\": \"E08000006\"}, {\"la_name\": \"Sefton\", \"response_rate_combined\": 90.92592592592592, \"total_kids_hv\": 2700.0, \"ONS code\": \"E08000014\"}, {\"la_name\": \"St Helens\", \"response_rate_combined\": 73.09384954667973, \"total_kids_hv\": 1925.0, \"ONS code\": \"E08000013\"}, {\"la_name\": \"Stockport\", \"response_rate_combined\": 91.31430928208391, \"total_kids_hv\": 3131.0, \"ONS code\": \"E08000007\"}, {\"la_name\": \"Tameside\", \"response_rate_combined\": 86.75210379530675, \"total_kids_hv\": 2806.0, \"ONS code\": \"E08000008\"}, {\"la_name\": \"Trafford\", \"response_rate_combined\": 71.90325736002411, \"total_kids_hv\": 2534.0, \"ONS code\": \"E08000009\"}, {\"la_name\": \"Warrington\", \"response_rate_combined\": 76.41049072466417, \"total_kids_hv\": 2170.0, \"ONS code\": \"E06000007\"}, {\"la_name\": \"Wigan\", \"response_rate_combined\": 77.73012108847142, \"total_kids_hv\": 3212.0, \"ONS code\": \"E08000010\"}, {\"la_name\": \"Wirral\", \"response_rate_combined\": 68.5678219096981, \"total_kids_hv\": 3345.0, \"ONS code\": \"E08000015\"}, {\"la_name\": \"Barnsley\", \"response_rate_combined\": 93.91437549533737, \"total_kids_hv\": 2777.0, \"ONS code\": \"E08000016\"}, {\"la_name\": \"Bradford\", \"response_rate_combined\": 23.4270045763265, \"total_kids_hv\": 7397.0, \"ONS code\": \"E08000032\"}, {\"la_name\": \"Calderdale\", \"response_rate_combined\": 71.54041261157114, \"total_kids_hv\": 2188.0, \"ONS code\": \"E08000033\"}, {\"la_name\": \"Doncaster\", \"response_rate_combined\": 92.63117683026114, \"total_kids_hv\": 3538.0, \"ONS code\": \"E08000017\"}, {\"la_name\": \"East Riding of Yorkshire\", \"response_rate_combined\": 85.82544390693856, \"total_kids_hv\": 2780.0, \"ONS code\": \"E06000011\"}, {\"la_name\": \"Kingston upon Hull\", \"response_rate_combined\": 80.99723927080245, \"total_kids_hv\": 3075.0, \"ONS code\": \"E06000010\"}, {\"la_name\": \"Kirklees\", \"response_rate_combined\": 31.619752825060676, \"total_kids_hv\": 5027.0, \"ONS code\": \"E08000034\"}, {\"la_name\": \"Leeds\", \"response_rate_combined\": 72.94800265314569, \"total_kids_hv\": 9273.0, \"ONS code\": \"E08000035\"}, {\"la_name\": \"North East Lincolnshire\", \"response_rate_combined\": 80.50837481205049, \"total_kids_hv\": 1703.0, \"ONS code\": \"E06000012\"}, {\"la_name\": \"North Lincolnshire\", \"response_rate_combined\": 90.49605515711403, \"total_kids_hv\": 1677.0, \"ONS code\": \"E06000013\"}, {\"la_name\": \"North Yorkshire\", \"response_rate_combined\": 90.10371517979551, \"total_kids_hv\": 4929.0, \"ONS code\": \"E10000023\"}, {\"la_name\": \"Rotherham\", \"response_rate_combined\": 91.61182867539353, \"total_kids_hv\": 3142.0, \"ONS code\": \"E08000018\"}, {\"la_name\": \"Sheffield\", \"response_rate_combined\": 86.72596073166639, \"total_kids_hv\": 5959.0, \"ONS code\": \"E08000019\"}, {\"la_name\": \"Wakefield\", \"response_rate_combined\": 61.00586161656094, \"total_kids_hv\": 4022.0, \"ONS code\": \"E08000036\"}, {\"la_name\": \"York\", \"response_rate_combined\": 78.36365146069426, \"total_kids_hv\": 1683.0, \"ONS code\": \"E06000014\"}, {\"la_name\": \"Derby\", \"response_rate_combined\": 86.45511291928048, \"total_kids_hv\": 3086.0, \"ONS code\": \"E06000015\"}, {\"la_name\": \"Derbyshire\", \"response_rate_combined\": 89.01081208825852, \"total_kids_hv\": 7468.0, \"ONS code\": \"E10000007\"}, {\"la_name\": \"Leicester\", \"response_rate_combined\": 76.86880256987834, \"total_kids_hv\": 4756.0, \"ONS code\": \"E06000016\"}, {\"la_name\": \"Leicestershire\", \"response_rate_combined\": 71.90516583022004, \"total_kids_hv\": 7231.0, \"ONS code\": \"E10000018\"}, {\"la_name\": \"Lincolnshire\", \"response_rate_combined\": 26.122082070250386, \"total_kids_hv\": 7190.0, \"ONS code\": \"E10000019\"}, {\"la_name\": \"North Northamptonshire\", \"response_rate_combined\": 66.53958821802097, \"total_kids_hv\": 3838.0, \"ONS code\": \"E06000061\"}, {\"la_name\": \"Nottingham\", \"response_rate_combined\": 80.1219174286506, \"total_kids_hv\": 3609.0, \"ONS code\": \"E06000018\"}, {\"la_name\": \"Nottinghamshire\", \"response_rate_combined\": 84.16282027491253, \"total_kids_hv\": 8108.0, \"ONS code\": \"E10000024\"}, {\"la_name\": \"Rutland\", \"response_rate_combined\": 77.99191344000572, \"total_kids_hv\": 343.0, \"ONS code\": \"E06000017\"}, {\"la_name\": \"West Northamptonshire\", \"response_rate_combined\": 67.43347918688805, \"total_kids_hv\": 4551.0, \"ONS code\": \"E06000062\"}, {\"la_name\": \"Birmingham\", \"response_rate_combined\": 72.86363961908742, \"total_kids_hv\": 15691.0, \"ONS code\": \"E08000025\"}, {\"la_name\": \"Coventry\", \"response_rate_combined\": 79.25117682323392, \"total_kids_hv\": 4412.0, \"ONS code\": \"E08000026\"}, {\"la_name\": \"Dudley\", \"response_rate_combined\": 83.37445085922582, \"total_kids_hv\": 3841.0, \"ONS code\": \"E08000027\"}, {\"la_name\": \"Herefordshire\", \"response_rate_combined\": 91.03936236764922, \"total_kids_hv\": 1699.0, \"ONS code\": \"E06000019\"}, {\"la_name\": \"Sandwell\", \"response_rate_combined\": 93.76349496797805, \"total_kids_hv\": 4372.0, \"ONS code\": \"E08000028\"}, {\"la_name\": \"Shropshire\", \"response_rate_combined\": 52.573177012435465, \"total_kids_hv\": 2927.0, \"ONS code\": \"E06000051\"}, {\"la_name\": \"Solihull\", \"response_rate_combined\": 67.1606029154628, \"total_kids_hv\": 2330.0, \"ONS code\": \"E08000029\"}, {\"la_name\": \"Staffordshire\", \"response_rate_combined\": 78.08666978714818, \"total_kids_hv\": 8516.0, \"ONS code\": \"E10000028\"}, {\"la_name\": \"Telford and Wrekin\", \"response_rate_combined\": 53.73895283115815, \"total_kids_hv\": 2220.0, \"ONS code\": \"E06000020\"}, {\"la_name\": \"Walsall\", \"response_rate_combined\": 52.25823678662711, \"total_kids_hv\": 3153.0, \"ONS code\": \"E08000030\"}, {\"la_name\": \"Warwickshire\", \"response_rate_combined\": 79.14076390835243, \"total_kids_hv\": 6232.0, \"ONS code\": \"E10000031\"}, {\"la_name\": \"Wolverhampton\", \"response_rate_combined\": 81.28299689440995, \"total_kids_hv\": 3360.0, \"ONS code\": \"E08000031\"}, {\"la_name\": \"Worcestershire\", \"response_rate_combined\": 70.81990471579932, \"total_kids_hv\": 6128.0, \"ONS code\": \"E10000034\"}, {\"la_name\": \"Bedford\", \"response_rate_combined\": 7.265876513772715, \"total_kids_hv\": 2221.0, \"ONS code\": \"E06000055\"}, {\"la_name\": \"Cambridgeshire\", \"response_rate_combined\": 50.188958273666294, \"total_kids_hv\": 7111.0, \"ONS code\": \"E10000003\"}, {\"la_name\": \"Central Bedfordshire\", \"response_rate_combined\": 7.046950427235053, \"total_kids_hv\": 3677.0, \"ONS code\": \"E06000056\"}, {\"la_name\": \"Essex\", \"response_rate_combined\": 81.43228725296277, \"total_kids_hv\": 15418.0, \"ONS code\": \"E10000012\"}, {\"la_name\": \"Hertfordshire\", \"response_rate_combined\": 75.61166109436319, \"total_kids_hv\": 13809.0, \"ONS code\": \"E10000015\"}, {\"la_name\": \"Luton\", \"response_rate_combined\": 81.9295101553166, \"total_kids_hv\": 3348.0, \"ONS code\": \"E06000032\"}, {\"la_name\": \"Milton Keynes\", \"response_rate_combined\": 81.91045840833524, \"total_kids_hv\": 3421.0, \"ONS code\": \"E06000042\"}, {\"la_name\": \"Norfolk\", \"response_rate_combined\": 17.897638302374578, \"total_kids_hv\": 8361.0, \"ONS code\": \"E10000020\"}, {\"la_name\": \"Peterborough\", \"response_rate_combined\": 42.54613456763675, \"total_kids_hv\": 2979.0, \"ONS code\": \"E06000031\"}, {\"la_name\": \"Southend on Sea\", \"response_rate_combined\": 107.53467449037993, \"total_kids_hv\": 1898.0, \"ONS code\": \"E06000033\"}, {\"la_name\": \"Suffolk\", \"response_rate_combined\": 71.53003090329189, \"total_kids_hv\": 7206.0, \"ONS code\": \"E10000029\"}, {\"la_name\": \"Thurrock\", \"response_rate_combined\": 83.22127688324872, \"total_kids_hv\": 2485.0, \"ONS code\": \"E06000034\"}, {\"la_name\": \"Barking and Dagenham\", \"response_rate_combined\": 50.21355304632409, \"total_kids_hv\": 3396.0, \"ONS code\": \"E09000002\"}, {\"la_name\": \"Barnet\", \"response_rate_combined\": 50.86230668124772, \"total_kids_hv\": 4609.0, \"ONS code\": \"E09000003\"}, {\"la_name\": \"Bexley\", \"response_rate_combined\": 81.5035580144897, \"total_kids_hv\": 2761.0, \"ONS code\": \"E09000004\"}, {\"la_name\": \"Brent\", \"response_rate_combined\": 47.25125549213111, \"total_kids_hv\": 4245.0, \"ONS code\": \"E09000005\"}, {\"la_name\": \"Bromley\", \"response_rate_combined\": 70.15899212502804, \"total_kids_hv\": 3092.0, \"ONS code\": \"E09000006\"}, {\"la_name\": \"Camden\", \"response_rate_combined\": 65.3156149543119, \"total_kids_hv\": 1950.0, \"ONS code\": \"E09000007\"}, {\"la_name\": \"Croydon\", \"response_rate_combined\": 27.06295316651659, \"total_kids_hv\": 5266.0, \"ONS code\": \"E09000008\"}, {\"la_name\": \"Ealing\", \"response_rate_combined\": 72.39607803398096, \"total_kids_hv\": 4461.0, \"ONS code\": \"E09000009\"}, {\"la_name\": \"Greenwich\", \"response_rate_combined\": 16.703796748352843, \"total_kids_hv\": 3179.0, \"ONS code\": \"E09000011\"}, {\"la_name\": \"Hackney and City of London\", \"response_rate_combined\": 57.49999999999999, \"total_kids_hv\": 3560.0, \"ONS code\": \"E09000012\"}, {\"la_name\": \"Haringey\", \"response_rate_combined\": 69.83757035373557, \"total_kids_hv\": 3037.0, \"ONS code\": \"E09000014\"}, {\"la_name\": \"Harrow\", \"response_rate_combined\": 71.73665204713859, \"total_kids_hv\": 3416.0, \"ONS code\": \"E09000015\"}, {\"la_name\": \"Havering\", \"response_rate_combined\": 82.05522116298127, \"total_kids_hv\": 3172.0, \"ONS code\": \"E09000016\"}, {\"la_name\": \"Hounslow\", \"response_rate_combined\": 53.066966218026664, \"total_kids_hv\": 4302.0, \"ONS code\": \"E09000018\"}, {\"la_name\": \"Islington\", \"response_rate_combined\": 70.8170129273701, \"total_kids_hv\": 2188.0, \"ONS code\": \"E09000019\"}, {\"la_name\": \"Kingston upon Thames\", \"response_rate_combined\": 51.68386872348967, \"total_kids_hv\": 2018.0, \"ONS code\": \"E09000021\"}, {\"la_name\": \"Lambeth\", \"response_rate_combined\": 62.64591700968576, \"total_kids_hv\": 2931.0, \"ONS code\": \"E09000022\"}, {\"la_name\": \"Lewisham\", \"response_rate_combined\": 121.64900907446055, \"total_kids_hv\": 10679.0, \"ONS code\": \"E09000023\"}, {\"la_name\": \"Newham\", \"response_rate_combined\": 66.64418187104974, \"total_kids_hv\": 5240.0, \"ONS code\": \"E09000025\"}, {\"la_name\": \"Redbridge\", \"response_rate_combined\": 11.390182026254974, \"total_kids_hv\": 4386.0, \"ONS code\": \"E09000026\"}, {\"la_name\": \"Richmond upon Thames\", \"response_rate_combined\": 56.63586489313257, \"total_kids_hv\": 2045.0, \"ONS code\": \"E09000027\"}, {\"la_name\": \"Southwark\", \"response_rate_combined\": 61.939506501616215, \"total_kids_hv\": 3200.0, \"ONS code\": \"E09000028\"}, {\"la_name\": \"Sutton\", \"response_rate_combined\": 59.92240706855536, \"total_kids_hv\": 2462.0, \"ONS code\": \"E09000029\"}, {\"la_name\": \"Tower Hamlets\", \"response_rate_combined\": 78.9521434733765, \"total_kids_hv\": 3322.0, \"ONS code\": \"E09000030\"}, {\"la_name\": \"Waltham Forest\", \"response_rate_combined\": 53.03155375249258, \"total_kids_hv\": 4094.0, \"ONS code\": \"E09000031\"}, {\"la_name\": \"Wandsworth\", \"response_rate_combined\": 43.98098739833887, \"total_kids_hv\": 3678.0, \"ONS code\": \"E09000032\"}, {\"la_name\": \"Bracknell Forest\", \"response_rate_combined\": 81.27554007749214, \"total_kids_hv\": 1390.0, \"ONS code\": \"E06000036\"}, {\"la_name\": \"Brighton and Hove\", \"response_rate_combined\": 84.60957420829114, \"total_kids_hv\": 2348.0, \"ONS code\": \"E06000043\"}, {\"la_name\": \"Buckinghamshire\", \"response_rate_combined\": 75.47145769622834, \"total_kids_hv\": 5960.0, \"ONS code\": \"E06000060\"}, {\"la_name\": \"East Sussex\", \"response_rate_combined\": 88.66638396670739, \"total_kids_hv\": 5108.0, \"ONS code\": \"E10000011\"}, {\"la_name\": \"Hampshire\", \"response_rate_combined\": 87.1177066854041, \"total_kids_hv\": 14055.0, \"ONS code\": \"E10000014\"}, {\"la_name\": \"Isle of Wight\", \"response_rate_combined\": 86.96261428426251, \"total_kids_hv\": 1084.0, \"ONS code\": \"E06000046\"}, {\"la_name\": \"Kent\", \"response_rate_combined\": 80.03837878963114, \"total_kids_hv\": 16264.0, \"ONS code\": \"E10000016\"}, {\"la_name\": \"Medway\", \"response_rate_combined\": 81.76283211248337, \"total_kids_hv\": 3457.0, \"ONS code\": \"E06000035\"}, {\"la_name\": \"Oxfordshire\", \"response_rate_combined\": 46.53404757965887, \"total_kids_hv\": 7742.0, \"ONS code\": \"E10000025\"}, {\"la_name\": \"Portsmouth\", \"response_rate_combined\": 63.779141296785824, \"total_kids_hv\": 2199.0, \"ONS code\": \"E06000044\"}, {\"la_name\": \"Reading\", \"response_rate_combined\": 62.1223715971273, \"total_kids_hv\": 2099.0, \"ONS code\": \"E06000038\"}, {\"la_name\": \"Slough\", \"response_rate_combined\": 82.47339423380485, \"total_kids_hv\": 2130.0, \"ONS code\": \"E06000039\"}, {\"la_name\": \"Southampton\", \"response_rate_combined\": 62.74886913494156, \"total_kids_hv\": 2737.0, \"ONS code\": \"E06000045\"}, {\"la_name\": \"Surrey\", \"response_rate_combined\": 47.978100014776714, \"total_kids_hv\": 16593.0, \"ONS code\": \"E10000030\"}, {\"la_name\": \"West Berkshire\", \"response_rate_combined\": 58.88705998870112, \"total_kids_hv\": 1614.0, \"ONS code\": \"E06000037\"}, {\"la_name\": \"West Sussex\", \"response_rate_combined\": 87.72845502308057, \"total_kids_hv\": 8890.0, \"ONS code\": \"E10000032\"}, {\"la_name\": \"Windsor and Maidenhead\", \"response_rate_combined\": 53.97608226154789, \"total_kids_hv\": 1620.0, \"ONS code\": \"E06000040\"}, {\"la_name\": \"Wokingham\", \"response_rate_combined\": 81.7874574027676, \"total_kids_hv\": 1951.0, \"ONS code\": \"E06000041\"}, {\"la_name\": \"Bath and North East Somerset\", \"response_rate_combined\": 94.44736496907447, \"total_kids_hv\": 1744.0, \"ONS code\": \"E06000022\"}, {\"la_name\": \"Bournemouth, Christchurch and Poole\", \"response_rate_combined\": 74.08656993002649, \"total_kids_hv\": 3454.0, \"ONS code\": \"E06000058\"}, {\"la_name\": \"Bristol\", \"response_rate_combined\": 88.48931411651174, \"total_kids_hv\": 5104.0, \"ONS code\": \"E06000023\"}, {\"la_name\": \"Cornwall and Isles of Scilly\", \"response_rate_combined\": 90.92945128779395, \"total_kids_hv\": 4465.0, \"ONS code\": \"E06000052\"}, {\"la_name\": \"Devon\", \"response_rate_combined\": 51.973557850031916, \"total_kids_hv\": 7134.0, \"ONS code\": \"E10000008\"}, {\"la_name\": \"Dorset\", \"response_rate_combined\": 74.87936002016372, \"total_kids_hv\": 2812.0, \"ONS code\": \"E06000059\"}, {\"la_name\": \"Gloucestershire\", \"response_rate_combined\": 84.10256392056239, \"total_kids_hv\": 6341.0, \"ONS code\": \"E10000013\"}, {\"la_name\": \"North Somerset\", \"response_rate_combined\": 51.93265584896076, \"total_kids_hv\": 2221.0, \"ONS code\": \"E06000024\"}, {\"la_name\": \"Plymouth\", \"response_rate_combined\": 62.405508173710885, \"total_kids_hv\": 2820.0, \"ONS code\": \"E06000026\"}, {\"la_name\": \"Somerset\", \"response_rate_combined\": 87.94245003896874, \"total_kids_hv\": 4146.0, \"ONS code\": \"E10000027\"}, {\"la_name\": \"South Gloucestershire\", \"response_rate_combined\": 57.468872307596605, \"total_kids_hv\": 3277.0, \"ONS code\": \"E06000025\"}, {\"la_name\": \"Swindon\", \"response_rate_combined\": 83.31025697828977, \"total_kids_hv\": 2806.0, \"ONS code\": \"E06000030\"}, {\"la_name\": \"Torbay\", \"response_rate_combined\": 67.89067710172218, \"total_kids_hv\": 879.0, \"ONS code\": \"E06000027\"}, {\"la_name\": \"Wiltshire\", \"response_rate_combined\": 77.02932106595142, \"total_kids_hv\": 5079.0, \"ONS code\": \"E06000054\"}]}}, {\"mode\": \"vega-lite\"});\n",
       "</script>"
      ],
      "text/plain": [
       "alt.Chart(...)"
      ]
     },
     "execution_count": 14,
     "metadata": {},
     "output_type": "execute_result"
    }
   ],
   "source": [
    "alt.Chart(regions).mark_geoshape(stroke=\"white\").transform_lookup(\n",
    "                                # We want the CTYUA21CD field to be the linking column in the regions data.\n",
    "                                lookup=\"properties.CTYUA21CD\",\n",
    "                                from_=alt.LookupData(\n",
    "                                    asq_data_rr,\n",
    "                                    \"ONS code\",\n",
    "                                    [\n",
    "                                        \"response_rate_combined:Q\",\n",
    "                                        \"la_name\"\n",
    "                                    ],\n",
    "                                )\n",
    "                            ).encode(color=alt.condition(\n",
    "                                    alternative_condition,\n",
    "                                    alt.Color(\n",
    "                                        \"response_rate_combined:Q\",\n",
    "                                        scale=alt.Scale(\n",
    "                                            scheme=\"redyellowblue\", domain=[30, 100]\n",
    "                                        ),\n",
    "                                    ),\n",
    "                                    alt.value(\"lightgrey\")))"
   ]
  },
  {
   "cell_type": "markdown",
   "metadata": {},
   "source": [
    "Response rate histogram"
   ]
  },
  {
   "cell_type": "code",
   "execution_count": 11,
   "metadata": {},
   "outputs": [],
   "source": [
    "# note: I made some formatting fixes in ppt in the report (i.e. axis labels, etc.)\n",
    "hist = alt.Chart(asq_data_rr).mark_bar().encode(\n",
    "alt.X(\"response_rate_combined:Q\", bin=alt.Bin(maxbins=40)),\n",
    "    y='count()'\n",
    "    ).configure_mark(color=\"blue\")"
   ]
  },
  {
   "cell_type": "code",
   "execution_count": 7,
   "metadata": {},
   "outputs": [
    {
     "name": "stdout",
     "output_type": "stream",
     "text": [
      "The mean response rate is 71.62664042738425\n",
      "The mean response rate is 75.61166109436319\n"
     ]
    }
   ],
   "source": [
    "# These I manually added to the response rate hisogram in ppt\n",
    "print(\"The mean response rate is {}\".format(mean(asq_data_rr[\"response_rate_combined\"])))\n",
    "print(\"The mean response rate is {}\".format(median(asq_data_rr[\"response_rate_combined\"])))"
   ]
  },
  {
   "cell_type": "markdown",
   "metadata": {},
   "source": [
    "Response rate vs. population scatterplot"
   ]
  },
  {
   "cell_type": "code",
   "execution_count": 14,
   "metadata": {},
   "outputs": [],
   "source": [
    "# axis labels / other formatting also done manually in ppt\n",
    "scatter = alt.Chart(asq_data_rr).mark_point().encode(\n",
    "    x = \"total_kids_hv:Q\",\n",
    "    y = \"response_rate_combined:Q\",\n",
    ").configure_mark(color=\"blue\")"
   ]
  },
  {
   "cell_type": "code",
   "execution_count": 15,
   "metadata": {},
   "outputs": [
    {
     "name": "stdout",
     "output_type": "stream",
     "text": [
      "The correlation coefficient between number of kids and reponse rate is -0.060570066256134786 with p-value 0.4787511084134485\n"
     ]
    }
   ],
   "source": [
    "correlation = scipy.stats.pearsonr(asq_data_rr[\"total_kids_hv\"], asq_data_rr[\"response_rate_combined\"])\n",
    "print(\"The correlation coefficient between number of kids and reponse rate is {} with p-value {}\".format(correlation[0], correlation[1]))"
   ]
  }
 ],
 "metadata": {
  "kernelspec": {
   "display_name": "afs_mapping_target_families",
   "language": "python",
   "name": "python3"
  },
  "language_info": {
   "codemirror_mode": {
    "name": "ipython",
    "version": 3
   },
   "file_extension": ".py",
   "mimetype": "text/x-python",
   "name": "python",
   "nbconvert_exporter": "python",
   "pygments_lexer": "ipython3",
   "version": "3.8.15"
  },
  "orig_nbformat": 4
 },
 "nbformat": 4,
 "nbformat_minor": 2
}
